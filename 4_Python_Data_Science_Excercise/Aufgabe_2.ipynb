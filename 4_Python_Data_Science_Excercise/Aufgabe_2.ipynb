{
 "cells": [
  {
   "attachments": {},
   "cell_type": "markdown",
   "metadata": {},
   "source": [
    "# Aufgabe 2"
   ]
  },
  {
   "cell_type": "code",
   "execution_count": 64,
   "metadata": {},
   "outputs": [],
   "source": [
    "import pandas as pd"
   ]
  },
  {
   "attachments": {},
   "cell_type": "markdown",
   "metadata": {},
   "source": [
    "**1. Teilaufgabe:**\\\n",
    "Load the countries.csv directly via URL import into your panda data frame!"
   ]
  },
  {
   "cell_type": "code",
   "execution_count": 65,
   "metadata": {},
   "outputs": [
    {
     "data": {
      "text/html": [
       "<div>\n",
       "<style scoped>\n",
       "    .dataframe tbody tr th:only-of-type {\n",
       "        vertical-align: middle;\n",
       "    }\n",
       "\n",
       "    .dataframe tbody tr th {\n",
       "        vertical-align: top;\n",
       "    }\n",
       "\n",
       "    .dataframe thead th {\n",
       "        text-align: right;\n",
       "    }\n",
       "</style>\n",
       "<table border=\"1\" class=\"dataframe\">\n",
       "  <thead>\n",
       "    <tr style=\"text-align: right;\">\n",
       "      <th></th>\n",
       "      <th>Name</th>\n",
       "      <th>Population</th>\n",
       "      <th>Area</th>\n",
       "      <th>GDP</th>\n",
       "      <th>Currency</th>\n",
       "    </tr>\n",
       "  </thead>\n",
       "  <tbody>\n",
       "    <tr>\n",
       "      <th>0</th>\n",
       "      <td>Germany</td>\n",
       "      <td>82521653</td>\n",
       "      <td>357385</td>\n",
       "      <td>3466.0</td>\n",
       "      <td>EUR</td>\n",
       "    </tr>\n",
       "    <tr>\n",
       "      <th>1</th>\n",
       "      <td>Japan</td>\n",
       "      <td>126045000</td>\n",
       "      <td>377835</td>\n",
       "      <td>4938.0</td>\n",
       "      <td>YEN</td>\n",
       "    </tr>\n",
       "    <tr>\n",
       "      <th>2</th>\n",
       "      <td>Canada</td>\n",
       "      <td>36503097</td>\n",
       "      <td>9984670</td>\n",
       "      <td>1529.0</td>\n",
       "      <td>CAD</td>\n",
       "    </tr>\n",
       "    <tr>\n",
       "      <th>3</th>\n",
       "      <td>Italy</td>\n",
       "      <td>60501718</td>\n",
       "      <td>301338</td>\n",
       "      <td>1850.0</td>\n",
       "      <td>EUR</td>\n",
       "    </tr>\n",
       "    <tr>\n",
       "      <th>4</th>\n",
       "      <td>Brazilia</td>\n",
       "      <td>208360000</td>\n",
       "      <td>8515770</td>\n",
       "      <td>1798.0</td>\n",
       "      <td>REAL</td>\n",
       "    </tr>\n",
       "    <tr>\n",
       "      <th>5</th>\n",
       "      <td>Taiwan</td>\n",
       "      <td>23938272</td>\n",
       "      <td>36197</td>\n",
       "      <td>744.0</td>\n",
       "      <td>NTD</td>\n",
       "    </tr>\n",
       "    <tr>\n",
       "      <th>6</th>\n",
       "      <td>Venezuela</td>\n",
       "      <td>28208977</td>\n",
       "      <td>912050</td>\n",
       "      <td>NaN</td>\n",
       "      <td>VED</td>\n",
       "    </tr>\n",
       "  </tbody>\n",
       "</table>\n",
       "</div>"
      ],
      "text/plain": [
       "        Name  Population     Area     GDP Currency\n",
       "0    Germany    82521653   357385  3466.0      EUR\n",
       "1      Japan   126045000   377835  4938.0      YEN\n",
       "2     Canada    36503097  9984670  1529.0      CAD\n",
       "3      Italy    60501718   301338  1850.0      EUR\n",
       "4   Brazilia   208360000  8515770  1798.0     REAL\n",
       "5     Taiwan    23938272    36197   744.0      NTD\n",
       "6  Venezuela    28208977   912050     NaN      VED"
      ]
     },
     "execution_count": 65,
     "metadata": {},
     "output_type": "execute_result"
    }
   ],
   "source": [
    "url = 'https://raw.githubusercontent.com/WHPAN0108/BHT-DataScience-S23/main/python-DS/country.csv'\n",
    "df = pd.read_csv(url)\n",
    "df"
   ]
  },
  {
   "attachments": {},
   "cell_type": "markdown",
   "metadata": {},
   "source": [
    "**Beschreibung zu 1.:**\n",
    "- Angabe der URL vom GitHub-Repository, URL muss Pfad zu RAW-Datei enthalten\n",
    "- Einlesen der kommaseparierten CSV-Inhalte via \"read_csv()\""
   ]
  },
  {
   "attachments": {},
   "cell_type": "markdown",
   "metadata": {},
   "source": [
    "**2. Teilaufgabe:**\\\n",
    "Display descriptive statistics for the numerical column (count, mean, std, min, 25%, 50%, 75%, max) HINT: describe"
   ]
  },
  {
   "cell_type": "code",
   "execution_count": 66,
   "metadata": {},
   "outputs": [
    {
     "name": "stdout",
     "output_type": "stream",
     "text": [
      "Population (count): 7\n",
      "Population (sum): 566078717\n",
      "Population (mean): 80868388.14285715\n",
      "Population (std): 66701952.313208535\n",
      "Population (min): 23938272\n",
      "Population (quantile): 0.25     32356037.0\n",
      "0.50     60501718.0\n",
      "0.75    104283326.5\n",
      "Name: Population, dtype: float64\n",
      "Population (max): 208360000\n",
      "\n",
      "Population (count): 7\n",
      "Population (sum): 20485245\n",
      "Population (mean): 2926463.5714285714\n",
      "Population (std): 4348507.096282464\n",
      "Population (min): 36197\n",
      "Population (quantile): 0.25     329361.5\n",
      "0.50     377835.0\n",
      "0.75    4713910.0\n",
      "Name: Area, dtype: float64\n",
      "Population (max): 9984670\n",
      "\n",
      "Population (count): 6\n",
      "Population (sum): 14325.0\n",
      "Population (mean): 2387.5\n",
      "Population (std): 1532.4975367027512\n",
      "Population (min): 744.0\n",
      "Population (quantile): 0.25    1596.25\n",
      "0.50    1824.00\n",
      "0.75    3062.00\n",
      "Name: GDP, dtype: float64\n",
      "Population (max): 4938.0\n"
     ]
    }
   ],
   "source": [
    "# column 'Population'\n",
    "print(\"Population (count): {}\".format(df['Population'].count())) # count of rows // Zeilenanzahl\n",
    "print(\"Population (sum): {}\".format(df['Population'].sum()))   # sum of all values // Summe aller Werte\n",
    "print(\"Population (mean): {}\".format(df['Population'].mean()))   # mean of all values // Durschnitt aller Werte\n",
    "print(\"Population (std): {}\".format(df['Population'].std()))   # std of all values // Standardabweichung aller Werte\n",
    "print(\"Population (min): {}\".format(df['Population'].min()))   # min of all values // Minimalwert aller Werte\n",
    "print(\"Population (quantile): {}\".format(df['Population'].quantile([0.25, 0.50, 0.75])))   # quantile (25%, 50%, 75%) // Teil der Datenmenge\n",
    "print(\"Population (max): {}\".format(df['Population'].max()))   # min of all values // Maximalwert aller Werte\n",
    "print()\n",
    "\n",
    "# column 'Area'\n",
    "print(\"Population (count): {}\".format(df['Area'].count())) # count of rows // Zeilenanzahl\n",
    "print(\"Population (sum): {}\".format(df['Area'].sum()))   # sum of all values // Summe aller Werte\n",
    "print(\"Population (mean): {}\".format(df['Area'].mean()))   # mean of all values // Durschnitt aller Werte\n",
    "print(\"Population (std): {}\".format(df['Area'].std()))   # std of all values // Standardabweichung aller Werte\n",
    "print(\"Population (min): {}\".format(df['Area'].min()))   # min of all values // Minimalwert aller Werte\n",
    "print(\"Population (quantile): {}\".format(df['Area'].quantile([0.25, 0.50, 0.75])))   # quantile (25%, 50%, 75%) // Teil der Datenmenge\n",
    "print(\"Population (max): {}\".format(df['Area'].max()))   # min of all values // Maximalwert aller Werte\n",
    "print()\n",
    "\n",
    "# column 'GDP'\n",
    "print(\"Population (count): {}\".format(df['GDP'].count())) # count of rows // Zeilenanzahl\n",
    "print(\"Population (sum): {}\".format(df['GDP'].sum()))   # sum of all values // Summe aller Werte\n",
    "print(\"Population (mean): {}\".format(df['GDP'].mean()))   # mean of all values // Durschnitt aller Werte\n",
    "print(\"Population (std): {}\".format(df['GDP'].std()))   # std of all values // Standardabweichung aller Werte\n",
    "print(\"Population (min): {}\".format(df['GDP'].min()))   # min of all values // Minimalwert aller Werte\n",
    "print(\"Population (quantile): {}\".format(df['GDP'].quantile([0.25, 0.50, 0.75])))   # quantile (25%, 50%, 75%) // Teil der Datenmenge\n",
    "print(\"Population (max): {}\".format(df['GDP'].max()))   # min of all values // Maximalwert aller Werte"
   ]
  },
  {
   "attachments": {},
   "cell_type": "markdown",
   "metadata": {},
   "source": [
    "**Beschreibung zu 2.:**\n",
    "- Funktion count() zum ermitteln der Zeilenanzahl\n",
    "- Funktion sum() zum ermitteln der Gesamtsumme\n",
    "- Funktion mean() zum ermitteln der Durchschnittsmenge\n",
    "- Funktion std() zum ermitteln der Standardabweichung\n",
    "- Funktion min() / max() zum ermitteln des Minimal-/Maximalwertes\n",
    "- Funktion quantile() zum ermitteln der Teile einer Datenmenge"
   ]
  },
  {
   "attachments": {},
   "cell_type": "markdown",
   "metadata": {},
   "source": [
    "**3. Teilaufgabe:**\\\n",
    "Show the last 4 rows of the data frame."
   ]
  },
  {
   "cell_type": "code",
   "execution_count": 67,
   "metadata": {},
   "outputs": [
    {
     "data": {
      "text/html": [
       "<div>\n",
       "<style scoped>\n",
       "    .dataframe tbody tr th:only-of-type {\n",
       "        vertical-align: middle;\n",
       "    }\n",
       "\n",
       "    .dataframe tbody tr th {\n",
       "        vertical-align: top;\n",
       "    }\n",
       "\n",
       "    .dataframe thead th {\n",
       "        text-align: right;\n",
       "    }\n",
       "</style>\n",
       "<table border=\"1\" class=\"dataframe\">\n",
       "  <thead>\n",
       "    <tr style=\"text-align: right;\">\n",
       "      <th></th>\n",
       "      <th>Name</th>\n",
       "      <th>Population</th>\n",
       "      <th>Area</th>\n",
       "      <th>GDP</th>\n",
       "      <th>Currency</th>\n",
       "    </tr>\n",
       "  </thead>\n",
       "  <tbody>\n",
       "    <tr>\n",
       "      <th>3</th>\n",
       "      <td>Italy</td>\n",
       "      <td>60501718</td>\n",
       "      <td>301338</td>\n",
       "      <td>1850.0</td>\n",
       "      <td>EUR</td>\n",
       "    </tr>\n",
       "    <tr>\n",
       "      <th>4</th>\n",
       "      <td>Brazilia</td>\n",
       "      <td>208360000</td>\n",
       "      <td>8515770</td>\n",
       "      <td>1798.0</td>\n",
       "      <td>REAL</td>\n",
       "    </tr>\n",
       "    <tr>\n",
       "      <th>5</th>\n",
       "      <td>Taiwan</td>\n",
       "      <td>23938272</td>\n",
       "      <td>36197</td>\n",
       "      <td>744.0</td>\n",
       "      <td>NTD</td>\n",
       "    </tr>\n",
       "    <tr>\n",
       "      <th>6</th>\n",
       "      <td>Venezuela</td>\n",
       "      <td>28208977</td>\n",
       "      <td>912050</td>\n",
       "      <td>NaN</td>\n",
       "      <td>VED</td>\n",
       "    </tr>\n",
       "  </tbody>\n",
       "</table>\n",
       "</div>"
      ],
      "text/plain": [
       "        Name  Population     Area     GDP Currency\n",
       "3      Italy    60501718   301338  1850.0      EUR\n",
       "4   Brazilia   208360000  8515770  1798.0     REAL\n",
       "5     Taiwan    23938272    36197   744.0      NTD\n",
       "6  Venezuela    28208977   912050     NaN      VED"
      ]
     },
     "execution_count": 67,
     "metadata": {},
     "output_type": "execute_result"
    }
   ],
   "source": [
    "df.tail(4)"
   ]
  },
  {
   "attachments": {},
   "cell_type": "markdown",
   "metadata": {},
   "source": [
    "**Beschreibung zu 3.:**\\\n",
    "Mit Hilfe der Funktion \"tail()\" können die letzten n-Zeilen eines Datenrahmens abgefragt werden."
   ]
  },
  {
   "attachments": {},
   "cell_type": "markdown",
   "metadata": {},
   "source": [
    "**4. Teilaufgabe:**\\\n",
    "Show all the rows of countries that have the EURO"
   ]
  },
  {
   "cell_type": "code",
   "execution_count": 68,
   "metadata": {},
   "outputs": [
    {
     "data": {
      "text/html": [
       "<div>\n",
       "<style scoped>\n",
       "    .dataframe tbody tr th:only-of-type {\n",
       "        vertical-align: middle;\n",
       "    }\n",
       "\n",
       "    .dataframe tbody tr th {\n",
       "        vertical-align: top;\n",
       "    }\n",
       "\n",
       "    .dataframe thead th {\n",
       "        text-align: right;\n",
       "    }\n",
       "</style>\n",
       "<table border=\"1\" class=\"dataframe\">\n",
       "  <thead>\n",
       "    <tr style=\"text-align: right;\">\n",
       "      <th></th>\n",
       "      <th>Name</th>\n",
       "      <th>Population</th>\n",
       "      <th>Area</th>\n",
       "      <th>GDP</th>\n",
       "      <th>Currency</th>\n",
       "    </tr>\n",
       "  </thead>\n",
       "  <tbody>\n",
       "    <tr>\n",
       "      <th>0</th>\n",
       "      <td>Germany</td>\n",
       "      <td>82521653</td>\n",
       "      <td>357385</td>\n",
       "      <td>3466.0</td>\n",
       "      <td>EUR</td>\n",
       "    </tr>\n",
       "    <tr>\n",
       "      <th>3</th>\n",
       "      <td>Italy</td>\n",
       "      <td>60501718</td>\n",
       "      <td>301338</td>\n",
       "      <td>1850.0</td>\n",
       "      <td>EUR</td>\n",
       "    </tr>\n",
       "  </tbody>\n",
       "</table>\n",
       "</div>"
      ],
      "text/plain": [
       "      Name  Population    Area     GDP Currency\n",
       "0  Germany    82521653  357385  3466.0      EUR\n",
       "3    Italy    60501718  301338  1850.0      EUR"
      ]
     },
     "execution_count": 68,
     "metadata": {},
     "output_type": "execute_result"
    }
   ],
   "source": [
    "df.iloc[[0,3], :]"
   ]
  },
  {
   "attachments": {},
   "cell_type": "markdown",
   "metadata": {},
   "source": [
    "**Beschreibung zu 4.:**\\\n",
    "Mit der Funktion iloc(Zeile(n), Spalte(n)) können gezielt Zeilen und/oder Spalten eines Datenrahmens selektiert werden."
   ]
  },
  {
   "attachments": {},
   "cell_type": "markdown",
   "metadata": {},
   "source": [
    "**5. Teilaufgabe:**\\\n",
    "Show only name and Currency in a new data frame"
   ]
  },
  {
   "cell_type": "code",
   "execution_count": 69,
   "metadata": {},
   "outputs": [
    {
     "data": {
      "text/html": [
       "<div>\n",
       "<style scoped>\n",
       "    .dataframe tbody tr th:only-of-type {\n",
       "        vertical-align: middle;\n",
       "    }\n",
       "\n",
       "    .dataframe tbody tr th {\n",
       "        vertical-align: top;\n",
       "    }\n",
       "\n",
       "    .dataframe thead th {\n",
       "        text-align: right;\n",
       "    }\n",
       "</style>\n",
       "<table border=\"1\" class=\"dataframe\">\n",
       "  <thead>\n",
       "    <tr style=\"text-align: right;\">\n",
       "      <th></th>\n",
       "      <th>Name</th>\n",
       "      <th>Currency</th>\n",
       "    </tr>\n",
       "  </thead>\n",
       "  <tbody>\n",
       "    <tr>\n",
       "      <th>0</th>\n",
       "      <td>Germany</td>\n",
       "      <td>EUR</td>\n",
       "    </tr>\n",
       "    <tr>\n",
       "      <th>1</th>\n",
       "      <td>Japan</td>\n",
       "      <td>YEN</td>\n",
       "    </tr>\n",
       "    <tr>\n",
       "      <th>2</th>\n",
       "      <td>Canada</td>\n",
       "      <td>CAD</td>\n",
       "    </tr>\n",
       "    <tr>\n",
       "      <th>3</th>\n",
       "      <td>Italy</td>\n",
       "      <td>EUR</td>\n",
       "    </tr>\n",
       "    <tr>\n",
       "      <th>4</th>\n",
       "      <td>Brazilia</td>\n",
       "      <td>REAL</td>\n",
       "    </tr>\n",
       "    <tr>\n",
       "      <th>5</th>\n",
       "      <td>Taiwan</td>\n",
       "      <td>NTD</td>\n",
       "    </tr>\n",
       "    <tr>\n",
       "      <th>6</th>\n",
       "      <td>Venezuela</td>\n",
       "      <td>VED</td>\n",
       "    </tr>\n",
       "  </tbody>\n",
       "</table>\n",
       "</div>"
      ],
      "text/plain": [
       "        Name Currency\n",
       "0    Germany      EUR\n",
       "1      Japan      YEN\n",
       "2     Canada      CAD\n",
       "3      Italy      EUR\n",
       "4   Brazilia     REAL\n",
       "5     Taiwan      NTD\n",
       "6  Venezuela      VED"
      ]
     },
     "execution_count": 69,
     "metadata": {},
     "output_type": "execute_result"
    }
   ],
   "source": [
    "df2 = df.iloc[:, [0,4]]\n",
    "df2"
   ]
  },
  {
   "attachments": {},
   "cell_type": "markdown",
   "metadata": {},
   "source": [
    "**Beschreibung zu 5.:**\\\n",
    "Mit der Funktion iloc(Zeile(n), Spalte(n)) kann selektiert hier die Spalten \"Name\" und \"Currency\" in ein neuen Datenrahmen abgefragt werden.\n",
    "Als erstes wird mit einem Doppelpunkt \":\" angegeben dass alle Zeilen selektiert werden. In der zweiten Angabe wird in einen Array angegeben dass die Spalten am Index 0=Name und 4=Currency selektiert werden."
   ]
  },
  {
   "attachments": {},
   "cell_type": "markdown",
   "metadata": {},
   "source": [
    "**6. Teilaufgabe:**\\\n",
    "Show only the rows/countries that have more than 2000 GDP (it is in Milliarden USD Bruttoinlandsprodukt)"
   ]
  },
  {
   "cell_type": "code",
   "execution_count": 70,
   "metadata": {},
   "outputs": [
    {
     "data": {
      "text/html": [
       "<div>\n",
       "<style scoped>\n",
       "    .dataframe tbody tr th:only-of-type {\n",
       "        vertical-align: middle;\n",
       "    }\n",
       "\n",
       "    .dataframe tbody tr th {\n",
       "        vertical-align: top;\n",
       "    }\n",
       "\n",
       "    .dataframe thead th {\n",
       "        text-align: right;\n",
       "    }\n",
       "</style>\n",
       "<table border=\"1\" class=\"dataframe\">\n",
       "  <thead>\n",
       "    <tr style=\"text-align: right;\">\n",
       "      <th></th>\n",
       "      <th>Name</th>\n",
       "      <th>GDP</th>\n",
       "    </tr>\n",
       "  </thead>\n",
       "  <tbody>\n",
       "    <tr>\n",
       "      <th>0</th>\n",
       "      <td>Germany</td>\n",
       "      <td>3466.0</td>\n",
       "    </tr>\n",
       "    <tr>\n",
       "      <th>1</th>\n",
       "      <td>Japan</td>\n",
       "      <td>4938.0</td>\n",
       "    </tr>\n",
       "  </tbody>\n",
       "</table>\n",
       "</div>"
      ],
      "text/plain": [
       "      Name     GDP\n",
       "0  Germany  3466.0\n",
       "1    Japan  4938.0"
      ]
     },
     "execution_count": 70,
     "metadata": {},
     "output_type": "execute_result"
    }
   ],
   "source": [
    "df.query('GDP > 2000.0')[['Name', 'GDP']]"
   ]
  },
  {
   "attachments": {},
   "cell_type": "markdown",
   "metadata": {},
   "source": [
    "**Beschreibung zu 6.:**\n",
    "- Im ersten Schritt werden mit der Funktion \"query\" alle Zeilen aus der Spalte \"GDP\" selektiert die einen Wert über 2000.0 enthalten.\n",
    "- Im zweiten Schritt werden die zwei Spalten \"Name\" (= Ländernamen) und \"GDP\" über einen Multi Selection ausgewählt und angezeigt."
   ]
  },
  {
   "attachments": {},
   "cell_type": "markdown",
   "metadata": {},
   "source": [
    "**7. Teilaufgabe:**\\\n",
    "Select all countries where with inhabitants between 50 and 150 Mio"
   ]
  },
  {
   "cell_type": "code",
   "execution_count": 71,
   "metadata": {},
   "outputs": [
    {
     "data": {
      "text/html": [
       "<div>\n",
       "<style scoped>\n",
       "    .dataframe tbody tr th:only-of-type {\n",
       "        vertical-align: middle;\n",
       "    }\n",
       "\n",
       "    .dataframe tbody tr th {\n",
       "        vertical-align: top;\n",
       "    }\n",
       "\n",
       "    .dataframe thead th {\n",
       "        text-align: right;\n",
       "    }\n",
       "</style>\n",
       "<table border=\"1\" class=\"dataframe\">\n",
       "  <thead>\n",
       "    <tr style=\"text-align: right;\">\n",
       "      <th></th>\n",
       "      <th>Name</th>\n",
       "      <th>Population</th>\n",
       "    </tr>\n",
       "  </thead>\n",
       "  <tbody>\n",
       "    <tr>\n",
       "      <th>0</th>\n",
       "      <td>Germany</td>\n",
       "      <td>82521653</td>\n",
       "    </tr>\n",
       "    <tr>\n",
       "      <th>1</th>\n",
       "      <td>Japan</td>\n",
       "      <td>126045000</td>\n",
       "    </tr>\n",
       "    <tr>\n",
       "      <th>3</th>\n",
       "      <td>Italy</td>\n",
       "      <td>60501718</td>\n",
       "    </tr>\n",
       "  </tbody>\n",
       "</table>\n",
       "</div>"
      ],
      "text/plain": [
       "      Name  Population\n",
       "0  Germany    82521653\n",
       "1    Japan   126045000\n",
       "3    Italy    60501718"
      ]
     },
     "execution_count": 71,
     "metadata": {},
     "output_type": "execute_result"
    }
   ],
   "source": [
    "df.query('Population > (50*1_000_000) and Population < (150*1_000_000)')[['Name', 'Population']]"
   ]
  },
  {
   "attachments": {},
   "cell_type": "markdown",
   "metadata": {},
   "source": [
    "**Beschreibung zu 7.:**\n",
    "- Ähnlich wie die Teilaufgabe 7. wird über die Query-Funktion die Spalte \"Population\" nach Werten gefiltert die eine Bevölkerung zwischen 50 und 150 Mio. Menschen haben.\n",
    "- Im letzten Schritt werden zur Ausgabe des Datenrahmens wieder die Spalten selektiert, hier \"Name\" (= Ländernamen) und \"Population\" (= Bevölkerungsanzahl)."
   ]
  },
  {
   "attachments": {},
   "cell_type": "markdown",
   "metadata": {},
   "source": [
    "**8. Teilaufgabe:**\\\n",
    "Calculate the GDP average (ignore the missing value)"
   ]
  },
  {
   "cell_type": "code",
   "execution_count": 72,
   "metadata": {},
   "outputs": [
    {
     "data": {
      "text/plain": [
       "2387.5"
      ]
     },
     "execution_count": 72,
     "metadata": {},
     "output_type": "execute_result"
    }
   ],
   "source": [
    "df['GDP'].mean()"
   ]
  },
  {
   "attachments": {},
   "cell_type": "markdown",
   "metadata": {},
   "source": [
    "**Beschreibung zu 8.:**\\\n",
    "Es wird wieder über die eckigen Klammern die Spalte \"GDP\" ausgewählt und mit Hilfe der Funktion \"mean()\" die Durchschnittsmenge aller Werte berechnet."
   ]
  },
  {
   "attachments": {},
   "cell_type": "markdown",
   "metadata": {},
   "source": [
    "**9. Teilaufgabe:**\\\n",
    "Calculate the GDP average (missing value treated as 0)"
   ]
  },
  {
   "cell_type": "code",
   "execution_count": 73,
   "metadata": {},
   "outputs": [
    {
     "data": {
      "text/plain": [
       "2046.4285714285713"
      ]
     },
     "execution_count": 73,
     "metadata": {},
     "output_type": "execute_result"
    }
   ],
   "source": [
    "df2 = df['GDP']\n",
    "df2.fillna(0.0).mean()"
   ]
  },
  {
   "attachments": {},
   "cell_type": "markdown",
   "metadata": {},
   "source": [
    "**Beschreibung zu 9.:**\n",
    "- Es wird im ersten Schritt die Spalte \"GDP\" ausgewählt und zum besseren Arbeiten in ein neuen Datenrahmen kopiert.\n",
    "- Im nächsten Schritt werden alle Werte die NaN (Not a Number) oder Null sind mit einen gegebenen Wert gefüllt, hier mit 0.0.\n",
    "- Zuletzt wird wieder die Durschnittsmenge berechnet."
   ]
  },
  {
   "attachments": {},
   "cell_type": "markdown",
   "metadata": {},
   "source": [
    "**10. Teilaufgabe:**\\\n",
    "Calculate the population density (population/area)  of all countries and add as new column"
   ]
  },
  {
   "cell_type": "code",
   "execution_count": 74,
   "metadata": {},
   "outputs": [
    {
     "data": {
      "text/html": [
       "<div>\n",
       "<style scoped>\n",
       "    .dataframe tbody tr th:only-of-type {\n",
       "        vertical-align: middle;\n",
       "    }\n",
       "\n",
       "    .dataframe tbody tr th {\n",
       "        vertical-align: top;\n",
       "    }\n",
       "\n",
       "    .dataframe thead th {\n",
       "        text-align: right;\n",
       "    }\n",
       "</style>\n",
       "<table border=\"1\" class=\"dataframe\">\n",
       "  <thead>\n",
       "    <tr style=\"text-align: right;\">\n",
       "      <th></th>\n",
       "      <th>Name</th>\n",
       "      <th>Population</th>\n",
       "      <th>Area</th>\n",
       "      <th>GDP</th>\n",
       "      <th>Currency</th>\n",
       "      <th>Population density</th>\n",
       "    </tr>\n",
       "  </thead>\n",
       "  <tbody>\n",
       "    <tr>\n",
       "      <th>0</th>\n",
       "      <td>Germany</td>\n",
       "      <td>82521653</td>\n",
       "      <td>357385</td>\n",
       "      <td>3466.0</td>\n",
       "      <td>EUR</td>\n",
       "      <td>230.904075</td>\n",
       "    </tr>\n",
       "    <tr>\n",
       "      <th>1</th>\n",
       "      <td>Japan</td>\n",
       "      <td>126045000</td>\n",
       "      <td>377835</td>\n",
       "      <td>4938.0</td>\n",
       "      <td>YEN</td>\n",
       "      <td>333.597999</td>\n",
       "    </tr>\n",
       "    <tr>\n",
       "      <th>2</th>\n",
       "      <td>Canada</td>\n",
       "      <td>36503097</td>\n",
       "      <td>9984670</td>\n",
       "      <td>1529.0</td>\n",
       "      <td>CAD</td>\n",
       "      <td>3.655914</td>\n",
       "    </tr>\n",
       "    <tr>\n",
       "      <th>3</th>\n",
       "      <td>Italy</td>\n",
       "      <td>60501718</td>\n",
       "      <td>301338</td>\n",
       "      <td>1850.0</td>\n",
       "      <td>EUR</td>\n",
       "      <td>200.776928</td>\n",
       "    </tr>\n",
       "    <tr>\n",
       "      <th>4</th>\n",
       "      <td>Brazilia</td>\n",
       "      <td>208360000</td>\n",
       "      <td>8515770</td>\n",
       "      <td>1798.0</td>\n",
       "      <td>REAL</td>\n",
       "      <td>24.467547</td>\n",
       "    </tr>\n",
       "    <tr>\n",
       "      <th>5</th>\n",
       "      <td>Taiwan</td>\n",
       "      <td>23938272</td>\n",
       "      <td>36197</td>\n",
       "      <td>744.0</td>\n",
       "      <td>NTD</td>\n",
       "      <td>661.333039</td>\n",
       "    </tr>\n",
       "    <tr>\n",
       "      <th>6</th>\n",
       "      <td>Venezuela</td>\n",
       "      <td>28208977</td>\n",
       "      <td>912050</td>\n",
       "      <td>NaN</td>\n",
       "      <td>VED</td>\n",
       "      <td>30.929200</td>\n",
       "    </tr>\n",
       "  </tbody>\n",
       "</table>\n",
       "</div>"
      ],
      "text/plain": [
       "        Name  Population     Area     GDP Currency  Population density\n",
       "0    Germany    82521653   357385  3466.0      EUR          230.904075\n",
       "1      Japan   126045000   377835  4938.0      YEN          333.597999\n",
       "2     Canada    36503097  9984670  1529.0      CAD            3.655914\n",
       "3      Italy    60501718   301338  1850.0      EUR          200.776928\n",
       "4   Brazilia   208360000  8515770  1798.0     REAL           24.467547\n",
       "5     Taiwan    23938272    36197   744.0      NTD          661.333039\n",
       "6  Venezuela    28208977   912050     NaN      VED           30.929200"
      ]
     },
     "execution_count": 74,
     "metadata": {},
     "output_type": "execute_result"
    }
   ],
   "source": [
    "df2 = pd.DataFrame({'Population density': df['Population'] / df['Area']})\n",
    "df3 = pd.concat([df, df2], axis=1)\n",
    "df3"
   ]
  },
  {
   "attachments": {},
   "cell_type": "markdown",
   "metadata": {},
   "source": [
    "**Beschreibung zu 10.:**\n",
    "- In der 1. Zeile wird ein neuer Datenrahmen mit nur einer Spalte \"Population density\" erzeugt. Die Spaltenwerte ergeben sich aus der Division der Spalten \"Population\" und \"Area\".\n",
    "- In der 2. Zeile wird über die Konkatenation des Datenrahmens \"df\" und \"df2\" werden alle Spalten zusammengefügt. Wichtig hierbei ist die Angabe der Achsenbeziehung (axis=1). Zur besseren Übersicht wird ein neuer Datenrahmen \"df3\" erzeugt und ausgegeben."
   ]
  },
  {
   "attachments": {},
   "cell_type": "markdown",
   "metadata": {},
   "source": [
    "**11. Teilaufgabe:**\\\n",
    "Sort by country name alphabetically"
   ]
  },
  {
   "cell_type": "code",
   "execution_count": 75,
   "metadata": {},
   "outputs": [
    {
     "data": {
      "text/html": [
       "<div>\n",
       "<style scoped>\n",
       "    .dataframe tbody tr th:only-of-type {\n",
       "        vertical-align: middle;\n",
       "    }\n",
       "\n",
       "    .dataframe tbody tr th {\n",
       "        vertical-align: top;\n",
       "    }\n",
       "\n",
       "    .dataframe thead th {\n",
       "        text-align: right;\n",
       "    }\n",
       "</style>\n",
       "<table border=\"1\" class=\"dataframe\">\n",
       "  <thead>\n",
       "    <tr style=\"text-align: right;\">\n",
       "      <th></th>\n",
       "      <th>Name</th>\n",
       "      <th>Population</th>\n",
       "      <th>Area</th>\n",
       "      <th>GDP</th>\n",
       "      <th>Currency</th>\n",
       "    </tr>\n",
       "  </thead>\n",
       "  <tbody>\n",
       "    <tr>\n",
       "      <th>4</th>\n",
       "      <td>Brazilia</td>\n",
       "      <td>208360000</td>\n",
       "      <td>8515770</td>\n",
       "      <td>1798.0</td>\n",
       "      <td>REAL</td>\n",
       "    </tr>\n",
       "    <tr>\n",
       "      <th>2</th>\n",
       "      <td>Canada</td>\n",
       "      <td>36503097</td>\n",
       "      <td>9984670</td>\n",
       "      <td>1529.0</td>\n",
       "      <td>CAD</td>\n",
       "    </tr>\n",
       "    <tr>\n",
       "      <th>0</th>\n",
       "      <td>Germany</td>\n",
       "      <td>82521653</td>\n",
       "      <td>357385</td>\n",
       "      <td>3466.0</td>\n",
       "      <td>EUR</td>\n",
       "    </tr>\n",
       "    <tr>\n",
       "      <th>3</th>\n",
       "      <td>Italy</td>\n",
       "      <td>60501718</td>\n",
       "      <td>301338</td>\n",
       "      <td>1850.0</td>\n",
       "      <td>EUR</td>\n",
       "    </tr>\n",
       "    <tr>\n",
       "      <th>1</th>\n",
       "      <td>Japan</td>\n",
       "      <td>126045000</td>\n",
       "      <td>377835</td>\n",
       "      <td>4938.0</td>\n",
       "      <td>YEN</td>\n",
       "    </tr>\n",
       "    <tr>\n",
       "      <th>5</th>\n",
       "      <td>Taiwan</td>\n",
       "      <td>23938272</td>\n",
       "      <td>36197</td>\n",
       "      <td>744.0</td>\n",
       "      <td>NTD</td>\n",
       "    </tr>\n",
       "    <tr>\n",
       "      <th>6</th>\n",
       "      <td>Venezuela</td>\n",
       "      <td>28208977</td>\n",
       "      <td>912050</td>\n",
       "      <td>NaN</td>\n",
       "      <td>VED</td>\n",
       "    </tr>\n",
       "  </tbody>\n",
       "</table>\n",
       "</div>"
      ],
      "text/plain": [
       "        Name  Population     Area     GDP Currency\n",
       "4   Brazilia   208360000  8515770  1798.0     REAL\n",
       "2     Canada    36503097  9984670  1529.0      CAD\n",
       "0    Germany    82521653   357385  3466.0      EUR\n",
       "3      Italy    60501718   301338  1850.0      EUR\n",
       "1      Japan   126045000   377835  4938.0      YEN\n",
       "5     Taiwan    23938272    36197   744.0      NTD\n",
       "6  Venezuela    28208977   912050     NaN      VED"
      ]
     },
     "execution_count": 75,
     "metadata": {},
     "output_type": "execute_result"
    }
   ],
   "source": [
    "df.sort_values('Name', ascending=True)"
   ]
  },
  {
   "attachments": {},
   "cell_type": "markdown",
   "metadata": {},
   "source": [
    "**Beschreibung zu 11.:**\\\n",
    "Mit Hilfe der Funktion \"sort_values(...)\" werden alle Zeilen des Datenrahmens ausgehend von der Spalte \"Name\" (= Ländernamen) alphabetisch neugeordnet. "
   ]
  },
  {
   "attachments": {},
   "cell_type": "markdown",
   "metadata": {},
   "source": [
    "**12. Teilaufgabe:**\\\n",
    "Create a new data frame from the original where the area is changed: all countries with > 1000000 get BIG and <= 1000000 get SMALL in the cell replaced!"
   ]
  },
  {
   "cell_type": "code",
   "execution_count": 77,
   "metadata": {},
   "outputs": [
    {
     "data": {
      "text/html": [
       "<div>\n",
       "<style scoped>\n",
       "    .dataframe tbody tr th:only-of-type {\n",
       "        vertical-align: middle;\n",
       "    }\n",
       "\n",
       "    .dataframe tbody tr th {\n",
       "        vertical-align: top;\n",
       "    }\n",
       "\n",
       "    .dataframe thead th {\n",
       "        text-align: right;\n",
       "    }\n",
       "</style>\n",
       "<table border=\"1\" class=\"dataframe\">\n",
       "  <thead>\n",
       "    <tr style=\"text-align: right;\">\n",
       "      <th></th>\n",
       "      <th>Name</th>\n",
       "      <th>Population</th>\n",
       "      <th>Area</th>\n",
       "      <th>GDP</th>\n",
       "      <th>Currency</th>\n",
       "    </tr>\n",
       "  </thead>\n",
       "  <tbody>\n",
       "    <tr>\n",
       "      <th>0</th>\n",
       "      <td>germany</td>\n",
       "      <td>82521653</td>\n",
       "      <td>357385</td>\n",
       "      <td>3466.0</td>\n",
       "      <td>EUR</td>\n",
       "    </tr>\n",
       "    <tr>\n",
       "      <th>1</th>\n",
       "      <td>japan</td>\n",
       "      <td>126045000</td>\n",
       "      <td>377835</td>\n",
       "      <td>4938.0</td>\n",
       "      <td>YEN</td>\n",
       "    </tr>\n",
       "    <tr>\n",
       "      <th>2</th>\n",
       "      <td>CANADA</td>\n",
       "      <td>36503097</td>\n",
       "      <td>9984670</td>\n",
       "      <td>1529.0</td>\n",
       "      <td>CAD</td>\n",
       "    </tr>\n",
       "    <tr>\n",
       "      <th>3</th>\n",
       "      <td>italy</td>\n",
       "      <td>60501718</td>\n",
       "      <td>301338</td>\n",
       "      <td>1850.0</td>\n",
       "      <td>EUR</td>\n",
       "    </tr>\n",
       "    <tr>\n",
       "      <th>4</th>\n",
       "      <td>BRAZILIA</td>\n",
       "      <td>208360000</td>\n",
       "      <td>8515770</td>\n",
       "      <td>1798.0</td>\n",
       "      <td>REAL</td>\n",
       "    </tr>\n",
       "    <tr>\n",
       "      <th>5</th>\n",
       "      <td>taiwan</td>\n",
       "      <td>23938272</td>\n",
       "      <td>36197</td>\n",
       "      <td>744.0</td>\n",
       "      <td>NTD</td>\n",
       "    </tr>\n",
       "    <tr>\n",
       "      <th>6</th>\n",
       "      <td>venezuela</td>\n",
       "      <td>28208977</td>\n",
       "      <td>912050</td>\n",
       "      <td>NaN</td>\n",
       "      <td>VED</td>\n",
       "    </tr>\n",
       "  </tbody>\n",
       "</table>\n",
       "</div>"
      ],
      "text/plain": [
       "        Name  Population     Area     GDP Currency\n",
       "0    germany    82521653   357385  3466.0      EUR\n",
       "1      japan   126045000   377835  4938.0      YEN\n",
       "2     CANADA    36503097  9984670  1529.0      CAD\n",
       "3      italy    60501718   301338  1850.0      EUR\n",
       "4   BRAZILIA   208360000  8515770  1798.0     REAL\n",
       "5     taiwan    23938272    36197   744.0      NTD\n",
       "6  venezuela    28208977   912050     NaN      VED"
      ]
     },
     "execution_count": 77,
     "metadata": {},
     "output_type": "execute_result"
    }
   ],
   "source": [
    "df2 = df.copy() # deep copy\n",
    "\n",
    "for index, row in df.iterrows(): # iterate over first data frame\n",
    "    if row['Area'] > 1_000_000: # area is bigger than 1_000_000\n",
    "        u = str(row['Name']).upper() # string of name to uppercase\n",
    "        df2.loc[int(index), ('Name')] = u # replace element by location\n",
    "    else: # area is bigger than 1_000_000\n",
    "        l = str(row['Name']).lower() # string of name to lowercase\n",
    "        df2.loc[int(index), ('Name')] = l # replace element by location\n",
    "     \n",
    "df2"
   ]
  },
  {
   "attachments": {},
   "cell_type": "markdown",
   "metadata": {},
   "source": [
    "**Beschreibung zu 12.:**\n",
    "- Zuerst eine Kopie vom originalen Datenrahmen erstellen (\"df\" mit Kopie zu \"df2\").\n",
    "- Dann über alle Zeilen vom Datenrahmen \"df\" iterieren.\n",
    "- Prüfe, ob Area über 1.000.000 liegt oder darunter. Entsprechen Ländernamen in groß/klein schreibweise umformatieren.\n",
    "- Formatierten String an den entsprechenden Index mit der \"loc()\"-Funktion in die Kopie \"df2\" schreiben."
   ]
  },
  {
   "attachments": {},
   "cell_type": "markdown",
   "metadata": {},
   "source": []
  }
 ],
 "metadata": {
  "kernelspec": {
   "display_name": "base",
   "language": "python",
   "name": "python3"
  },
  "language_info": {
   "codemirror_mode": {
    "name": "ipython",
    "version": 3
   },
   "file_extension": ".py",
   "mimetype": "text/x-python",
   "name": "python",
   "nbconvert_exporter": "python",
   "pygments_lexer": "ipython3",
   "version": "3.9.13"
  },
  "orig_nbformat": 4
 },
 "nbformat": 4,
 "nbformat_minor": 2
}
