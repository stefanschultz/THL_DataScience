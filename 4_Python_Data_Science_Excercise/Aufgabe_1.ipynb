{
 "cells": [
  {
   "attachments": {},
   "cell_type": "markdown",
   "metadata": {},
   "source": [
    "## Aufgabe 1"
   ]
  },
  {
   "cell_type": "code",
   "execution_count": 67,
   "metadata": {},
   "outputs": [
    {
     "name": "stdout",
     "output_type": "stream",
     "text": [
      "[ 103 1502 6230    3 1682 5241 4532]\n",
      "[   3  103 1502 1682 4532 5241 6230]\n",
      "[3 0 1 4 6 5 2]\n"
     ]
    }
   ],
   "source": [
    "import numpy as np\n",
    "\n",
    "score = np.array([103, 1502, 6230, 3, 1682, 5241, 4532])\n",
    "print(score) # print unsorted array\n",
    "\n",
    "score_sorted = np.sort(score) # sort array\n",
    "print(score_sorted) # print sorted array\n",
    "\n",
    "indices = np.array([np.where(score == x)[0][0] for x in score_sorted]) # get indices of sorted elements\n",
    "print(indices)"
   ]
  },
  {
   "attachments": {},
   "cell_type": "markdown",
   "metadata": {},
   "source": []
  }
 ],
 "metadata": {
  "kernelspec": {
   "display_name": "base",
   "language": "python",
   "name": "python3"
  },
  "language_info": {
   "codemirror_mode": {
    "name": "ipython",
    "version": 3
   },
   "file_extension": ".py",
   "mimetype": "text/x-python",
   "name": "python",
   "nbconvert_exporter": "python",
   "pygments_lexer": "ipython3",
   "version": "3.9.13"
  },
  "orig_nbformat": 4
 },
 "nbformat": 4,
 "nbformat_minor": 2
}
